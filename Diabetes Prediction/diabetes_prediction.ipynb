{
 "cells": [
  {
   "cell_type": "code",
   "execution_count": 1,
   "metadata": {},
   "outputs": [],
   "source": [
    "import numpy as np\n",
    "import pandas as pd\n",
    "\n",
    "import matplotlib.pyplot as plt\n",
    "\n",
    "from sklearn.model_selection import train_test_split\n",
    "from sklearn.preprocessing import StandardScaler\n",
    "from sklearn import preprocessing\n",
    "\n",
    "from imblearn.over_sampling import RandomOverSampler\n",
    "\n",
    "import tensorflow as tf"
   ]
  },
  {
   "cell_type": "code",
   "execution_count": 2,
   "metadata": {},
   "outputs": [
    {
     "name": "stdout",
     "output_type": "stream",
     "text": [
      "   Pregnancies  Glucose  BloodPressure  SkinThickness  Insulin   BMI  \\\n",
      "0            6      148             72             35        0  33.6   \n",
      "1            1       85             66             29        0  26.6   \n",
      "2            8      183             64              0        0  23.3   \n",
      "3            1       89             66             23       94  28.1   \n",
      "4            0      137             40             35      168  43.1   \n",
      "\n",
      "   DiabetesPedigreeFunction  Age  Outcome  \n",
      "0                     0.627   50        1  \n",
      "1                     0.351   31        0  \n",
      "2                     0.672   32        1  \n",
      "3                     0.167   21        0  \n",
      "4                     2.288   33        1  \n"
     ]
    }
   ],
   "source": [
    "df = pd.read_csv(\"diabetes.csv\")\n",
    "print(df.head())    "
   ]
  },
  {
   "cell_type": "code",
   "execution_count": null,
   "metadata": {},
   "outputs": [],
   "source": [
    "# plotting the data\n",
    "\n",
    "\n",
    "for i in range(len(df.columns[:-1])): # until the last column\n",
    "    label = df.columns[i] # column labels\n",
    "    plt.hist(df[df['Outcome']==1][label], color=\"blue\", label=\"Diabetes\", alpha=0.5, density=True) # positive\n",
    "    plt.hist(df[df['Outcome']==0][label], color=\"red\", label=\"No Diabetes\", alpha=0.5, density=True) # negative\n",
    "    plt.ylabel(\"Probability\")\n",
    "    plt.xlabel(label)\n",
    "    plt.title(label)\n",
    "    plt.legend()\n",
    "    plt.show()"
   ]
  },
  {
   "cell_type": "code",
   "execution_count": 3,
   "metadata": {},
   "outputs": [],
   "source": [
    "x_values = df[df.columns[:-1]].values # matrix\n",
    "y_values = df[df.columns[-1]].values # output column\n",
    "\n",
    "# scale the quantities (normalize the data)\n",
    "scaler = StandardScaler()\n",
    "x = scaler.fit_transform(x_values)\n",
    "\n",
    "# make dataset balanced in terms of outcomes\n",
    "over = RandomOverSampler()\n",
    "x, y = over.fit_resample(x, y_values)\n",
    "\n",
    "# 60% of the dataset for training, 20% for testing, 20% for validation\n",
    "x_train, x_temp, y_train, y_temp = train_test_split(x, y, test_size=0.4, random_state=0) # training\n",
    "x_valid, x_test, y_valid, y_test = train_test_split(x_temp, y_temp, test_size=0.5, random_state=0) # validation"
   ]
  },
  {
   "cell_type": "code",
   "execution_count": 4,
   "metadata": {},
   "outputs": [
    {
     "name": "stdout",
     "output_type": "stream",
     "text": [
      "Epoch 1/10\n",
      "300/300 [==============================] - 1s 2ms/step - loss: 0.5619 - accuracy: 0.7217 - val_loss: 0.4751 - val_accuracy: 0.7850\n",
      "Epoch 2/10\n",
      "300/300 [==============================] - 0s 1ms/step - loss: 0.5003 - accuracy: 0.7667 - val_loss: 0.4417 - val_accuracy: 0.7850\n",
      "Epoch 3/10\n",
      "300/300 [==============================] - 0s 1ms/step - loss: 0.4894 - accuracy: 0.7667 - val_loss: 0.4379 - val_accuracy: 0.7650\n",
      "Epoch 4/10\n",
      "300/300 [==============================] - 0s 1ms/step - loss: 0.4561 - accuracy: 0.7817 - val_loss: 0.4664 - val_accuracy: 0.7650\n",
      "Epoch 5/10\n",
      "300/300 [==============================] - 0s 1ms/step - loss: 0.4269 - accuracy: 0.7950 - val_loss: 0.4529 - val_accuracy: 0.7750\n",
      "Epoch 6/10\n",
      "300/300 [==============================] - 0s 1ms/step - loss: 0.4146 - accuracy: 0.8083 - val_loss: 0.4668 - val_accuracy: 0.8200\n",
      "Epoch 7/10\n",
      "300/300 [==============================] - 0s 1ms/step - loss: 0.3875 - accuracy: 0.8350 - val_loss: 0.4911 - val_accuracy: 0.7550\n",
      "Epoch 8/10\n",
      "300/300 [==============================] - 0s 1ms/step - loss: 0.3677 - accuracy: 0.8383 - val_loss: 0.5161 - val_accuracy: 0.7650\n",
      "Epoch 9/10\n",
      "300/300 [==============================] - 0s 1ms/step - loss: 0.3463 - accuracy: 0.8517 - val_loss: 0.4413 - val_accuracy: 0.8250\n",
      "Epoch 10/10\n",
      "300/300 [==============================] - 0s 1ms/step - loss: 0.3024 - accuracy: 0.8783 - val_loss: 0.5290 - val_accuracy: 0.7700\n"
     ]
    },
    {
     "data": {
      "text/plain": [
       "<keras.callbacks.History at 0x2432c4a4f70>"
      ]
     },
     "execution_count": 4,
     "metadata": {},
     "output_type": "execute_result"
    }
   ],
   "source": [
    "# build model (layers, activation functions)\n",
    "model = tf.keras.Sequential ([\n",
    "    tf.keras.layers.Dense(100, activation='relu'),\n",
    "    tf.keras.layers.Dense(100, activation='relu'),\n",
    "    tf.keras.layers.Dense(100, activation='relu'),\n",
    "    tf.keras.layers.Dense(1, activation='sigmoid') # used for binary classification\n",
    "])\n",
    "\n",
    "# compile model (optimizer, loss function, metrics)\n",
    "model.compile (\n",
    "    optimizer=tf.keras.optimizers.Adam(), \n",
    "    loss=tf.keras.losses.BinaryCrossentropy(),\n",
    "    metrics=['accuracy']\n",
    ")\n",
    "\n",
    "# train the model\n",
    "model.fit(\n",
    "    x_train, \n",
    "    y_train, \n",
    "    batch_size=2, \n",
    "    epochs=10,\n",
    "    validation_data=(x_valid, y_valid)\n",
    ")"
   ]
  },
  {
   "cell_type": "code",
   "execution_count": 5,
   "metadata": {},
   "outputs": [
    {
     "name": "stdout",
     "output_type": "stream",
     "text": [
      "[[0.0, 137.0, 40.0, 35.0, 168.0, 43.1, 2.288, 3.0]]\n",
      "1/1 [==============================] - 0s 83ms/step\n",
      "[[0.9569661]]\n",
      "Diabetes\n"
     ]
    }
   ],
   "source": [
    "test = []\n",
    "\n",
    "with open('test.csv') as file:\n",
    "    output = [float(s) for line in file.readlines() for s in line[:-1].split(',')]\n",
    "    test.append(output)\n",
    "\n",
    "print(test)\n",
    "\n",
    "test = np.array(test).reshape(-1, 1)\n",
    "normalized_array = scaler.fit_transform(test)\n",
    "\n",
    "predicted = model.predict(np.array([normalized_array]))\n",
    "\n",
    "print(predicted)\n",
    "\n",
    "if(predicted > 0.5):\n",
    "    print(\"Diabetes\")\n",
    "else:\n",
    "    print(\"No diabetes\")"
   ]
  }
 ],
 "metadata": {
  "kernelspec": {
   "display_name": "Python 3.10.5 64-bit",
   "language": "python",
   "name": "python3"
  },
  "language_info": {
   "codemirror_mode": {
    "name": "ipython",
    "version": 3
   },
   "file_extension": ".py",
   "mimetype": "text/x-python",
   "name": "python",
   "nbconvert_exporter": "python",
   "pygments_lexer": "ipython3",
   "version": "3.10.5"
  },
  "orig_nbformat": 4,
  "vscode": {
   "interpreter": {
    "hash": "f43cc61ecb9346674920bd0c80871174aab7f47f22ffcff9da1f54708c95c5a8"
   }
  }
 },
 "nbformat": 4,
 "nbformat_minor": 2
}
